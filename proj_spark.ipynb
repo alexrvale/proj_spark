{
 "cells": [
  {
   "cell_type": "code",
   "execution_count": 4,
   "metadata": {},
   "outputs": [],
   "source": [
    "!hdfs dfs -mkdir /user/alex/proj"
   ]
  },
  {
   "cell_type": "code",
   "execution_count": 18,
   "metadata": {},
   "outputs": [
    {
     "name": "stdout",
     "output_type": "stream",
     "text": [
      "Found 4 items\r\n",
      "-rw-r--r--   3 root supergroup   62492959 2022-04-24 23:45 /user/alex/proj/data/HIST_PAINEL_COVIDBR_2020_Parte1_06jul2021.csv\r\n",
      "-rw-r--r--   3 root supergroup   76520681 2022-04-24 23:45 /user/alex/proj/data/HIST_PAINEL_COVIDBR_2020_Parte2_06jul2021.csv\r\n",
      "-rw-r--r--   3 root supergroup   91120916 2022-04-24 23:45 /user/alex/proj/data/HIST_PAINEL_COVIDBR_2021_Parte1_06jul2021.csv\r\n",
      "-rw-r--r--   3 root supergroup    3046774 2022-04-24 23:45 /user/alex/proj/data/HIST_PAINEL_COVIDBR_2021_Parte2_06jul2021.csv\r\n"
     ]
    }
   ],
   "source": [
    "!hdfs dfs -ls /user/alex/proj/data"
   ]
  },
  {
   "cell_type": "code",
   "execution_count": 21,
   "metadata": {},
   "outputs": [
    {
     "name": "stdout",
     "output_type": "stream",
     "text": [
      "regiao;estado;municipio;coduf;codmun;codRegiaoSaude;nomeRegiaoSaude;data;semanaEpi;populacaoTCU2019;casosAcumulado;casosNovos;obitosAcumulado;obitosNovos;Recuperadosnovos;emAcompanhamentoNovos;interior/metropolitana\r",
      "\r\n",
      "Brasil;;;76;;;;2020-02-25;9;210147125;0;0;0;0;;;\r",
      "\r\n",
      "Brasil;;;76;;;;2020-02-26;9;210147125;1;1;0;0;;;\r",
      "\r\n",
      "cat: Unable to write to output stream.\r\n"
     ]
    }
   ],
   "source": [
    "!hdfs dfs -cat /user/alex/proj/data/HIST_PAINEL_COVIDBR_2020_Parte1_06jul2021.csv\\ |head -n 3"
   ]
  },
  {
   "cell_type": "code",
   "execution_count": 47,
   "metadata": {},
   "outputs": [],
   "source": [
    "from pyspark.sql.types import *\n",
    "from pyspark.sql.functions import *"
   ]
  },
  {
   "cell_type": "code",
   "execution_count": 2,
   "metadata": {},
   "outputs": [],
   "source": [
    "schema = StructType()\\\n",
    "    .add(\"regiao\", StringType())\\\n",
    "    .add(\"estado\", StringType())\\\n",
    "    .add(\"municipio\", StringType())\\\n",
    "    .add(\"coduf\", IntegerType())\\\n",
    "    .add(\"codmun\", IntegerType())\\\n",
    "    .add(\"codRegiaoSaude\", IntegerType())\\\n",
    "    .add(\"nomeRegiaoSaude\", StringType())\\\n",
    "    .add(\"data\", DateType())\\\n",
    "    .add(\"semanaEpi\", IntegerType())\\\n",
    "    .add(\"populacaoTCU2019\", IntegerType())\\\n",
    "    .add(\"casosAcumulado\", IntegerType())\\\n",
    "    .add(\"casosNovos\", IntegerType())\\\n",
    "    .add(\"obitosAcumulado\", IntegerType())\\\n",
    "    .add(\"obitosNovos\", IntegerType())\\\n",
    "    .add(\"Recuperadosnovos\", IntegerType())\\\n",
    "    .add(\"emAcompanhamentoNovos\", IntegerType())\\\n",
    "    .add(\"interior/metropolitana\", BooleanType())"
   ]
  },
  {
   "cell_type": "code",
   "execution_count": 3,
   "metadata": {},
   "outputs": [
    {
     "name": "stdout",
     "output_type": "stream",
     "text": [
      "StructType(List(StructField(regiao,StringType,true),StructField(estado,StringType,true),StructField(municipio,StringType,true),StructField(coduf,IntegerType,true),StructField(codmun,IntegerType,true),StructField(codRegiaoSaude,IntegerType,true),StructField(nomeRegiaoSaude,StringType,true),StructField(data,DateType,true),StructField(semanaEpi,IntegerType,true),StructField(populacaoTCU2019,IntegerType,true),StructField(casosAcumulado,IntegerType,true),StructField(casosNovos,IntegerType,true),StructField(obitosAcumulado,IntegerType,true),StructField(obitosNovos,IntegerType,true),StructField(Recuperadosnovos,IntegerType,true),StructField(emAcompanhamentoNovos,IntegerType,true),StructField(interior/metropolitana,BooleanType,true)))\n"
     ]
    }
   ],
   "source": [
    "print(schema)"
   ]
  },
  {
   "cell_type": "code",
   "execution_count": 4,
   "metadata": {},
   "outputs": [],
   "source": [
    "covidbr = spark.read.csv(\"/user/alex/proj/data/\", schema=schema, sep=\";\")"
   ]
  },
  {
   "cell_type": "code",
   "execution_count": 5,
   "metadata": {},
   "outputs": [
    {
     "name": "stdout",
     "output_type": "stream",
     "text": [
      "root\n",
      " |-- regiao: string (nullable = true)\n",
      " |-- estado: string (nullable = true)\n",
      " |-- municipio: string (nullable = true)\n",
      " |-- coduf: integer (nullable = true)\n",
      " |-- codmun: integer (nullable = true)\n",
      " |-- codRegiaoSaude: integer (nullable = true)\n",
      " |-- nomeRegiaoSaude: string (nullable = true)\n",
      " |-- data: date (nullable = true)\n",
      " |-- semanaEpi: integer (nullable = true)\n",
      " |-- populacaoTCU2019: integer (nullable = true)\n",
      " |-- casosAcumulado: integer (nullable = true)\n",
      " |-- casosNovos: integer (nullable = true)\n",
      " |-- obitosAcumulado: integer (nullable = true)\n",
      " |-- obitosNovos: integer (nullable = true)\n",
      " |-- Recuperadosnovos: integer (nullable = true)\n",
      " |-- emAcompanhamentoNovos: integer (nullable = true)\n",
      " |-- interior/metropolitana: boolean (nullable = true)\n",
      "\n"
     ]
    }
   ],
   "source": [
    "covidbr.printSchema()"
   ]
  },
  {
   "cell_type": "code",
   "execution_count": 70,
   "metadata": {},
   "outputs": [],
   "source": [
    "covidbr.write.parquet(\"/user/alex/proj/parquet/\", partitionBy=\"municipio\")"
   ]
  },
  {
   "cell_type": "code",
   "execution_count": 71,
   "metadata": {},
   "outputs": [
    {
     "name": "stdout",
     "output_type": "stream",
     "text": [
      "Found 2 items\r\n",
      "-rw-r--r--   2 root supergroup          0 2022-04-25 00:42 /user/alex/proj/parquet/_SUCCESS\r\n",
      "drwxr-xr-x   - root supergroup          0 2022-04-25 00:42 /user/alex/proj/parquet/municipio=__HIVE_DEFAULT_PARTITION__\r\n"
     ]
    }
   ],
   "source": [
    "!hdfs dfs -ls /user/alex/proj/parquet/"
   ]
  },
  {
   "cell_type": "code",
   "execution_count": 6,
   "metadata": {},
   "outputs": [],
   "source": [
    "covidbr = covidbr.withColumn(\"ano\", year(\"data\"))\\\n",
    "    .withColumn(\"mes\", month(\"data\"))"
   ]
  },
  {
   "cell_type": "code",
   "execution_count": 7,
   "metadata": {
    "collapsed": true
   },
   "outputs": [
    {
     "name": "stdout",
     "output_type": "stream",
     "text": [
      "+------+------+---------+-----+------+--------------+---------------+----+---------+----------------+--------------+----------+---------------+-----------+----------------+---------------------+----------------------+----+----+\n",
      "|regiao|estado|municipio|coduf|codmun|codRegiaoSaude|nomeRegiaoSaude|data|semanaEpi|populacaoTCU2019|casosAcumulado|casosNovos|obitosAcumulado|obitosNovos|Recuperadosnovos|emAcompanhamentoNovos|interior/metropolitana| ano| mes|\n",
      "+------+------+---------+-----+------+--------------+---------------+----+---------+----------------+--------------+----------+---------------+-----------+----------------+---------------------+----------------------+----+----+\n",
      "|  null|  null|     null| null|  null|          null|           null|null|     null|            null|          null|      null|           null|       null|            null|                 null|                  null|null|null|\n",
      "|  null|  null|     null| null|  null|          null|           null|null|     null|            null|          null|      null|           null|       null|            null|                 null|                  null|null|null|\n",
      "|  null|  null|     null| null|  null|          null|           null|null|     null|            null|          null|      null|           null|       null|            null|                 null|                  null|null|null|\n",
      "|  null|  null|     null| null|  null|          null|           null|null|     null|            null|          null|      null|           null|       null|            null|                 null|                  null|null|null|\n",
      "|  null|  null|     null| null|  null|          null|           null|null|     null|            null|          null|      null|           null|       null|            null|                 null|                  null|null|null|\n",
      "+------+------+---------+-----+------+--------------+---------------+----+---------+----------------+--------------+----------+---------------+-----------+----------------+---------------------+----------------------+----+----+\n",
      "only showing top 5 rows\n",
      "\n"
     ]
    }
   ],
   "source": [
    "covidbr.sort(desc(\"municipio\")).show(5)"
   ]
  },
  {
   "cell_type": "code",
   "execution_count": 8,
   "metadata": {},
   "outputs": [],
   "source": [
    "covid_mun = \\\n",
    "covidbr.groupBy([\"ano\", \"mes\", \"municipio\"])\\\n",
    "    .agg(sum(\"casosNovos\").alias(\"Casos_mes\"),\n",
    "        sum(\"obitosNovos\").alias(\"Obitos_mes\"),\n",
    "        max(\"populacaoTCU2019\").alias(\"Pop\"))"
   ]
  },
  {
   "cell_type": "code",
   "execution_count": 9,
   "metadata": {},
   "outputs": [],
   "source": [
    "covid_uf = \\\n",
    "covidbr.groupBy([\"ano\", \"mes\", \"estado\"])\\\n",
    "    .agg(sum(\"casosNovos\").alias(\"Casos_mes\"),\n",
    "        sum(\"obitosNovos\").alias(\"Obitos_mes\"),\n",
    "        max(\"populacaoTCU2019\").alias(\"Pop\"))"
   ]
  },
  {
   "cell_type": "code",
   "execution_count": 10,
   "metadata": {},
   "outputs": [],
   "source": [
    "covid_br = \\\n",
    "covidbr.groupBy([\"ano\", \"mes\"])\\\n",
    "    .agg(sum(\"casosNovos\").alias(\"Casos_mes\"),\n",
    "        sum(\"obitosNovos\").alias(\"Obitos_mes\"),\n",
    "        max(\"populacaoTCU2019\").alias(\"Pop\"))\\\n",
    "    .withColumn(\"Obitos_por_mil_habitantes\", (1000*col(\"Obitos_mes\")/col(\"Pop\")))\\\n",
    "    .sort([\"ano\",\"mes\"])"
   ]
  },
  {
   "cell_type": "code",
   "execution_count": 113,
   "metadata": {
    "collapsed": true
   },
   "outputs": [
    {
     "ename": "AnalysisException",
     "evalue": "\"Can not create the managed table('`covid_por_municipio`'). The associated location('hdfs://namenode:8020/user/hive/warehouse/covid_por_municipio') already exists.;\"",
     "output_type": "error",
     "traceback": [
      "\u001b[0;31m---------------------------------------------------------------------------\u001b[0m",
      "\u001b[0;31mPy4JJavaError\u001b[0m                             Traceback (most recent call last)",
      "\u001b[0;32m/opt/spark/python/pyspark/sql/utils.py\u001b[0m in \u001b[0;36mdeco\u001b[0;34m(*a, **kw)\u001b[0m\n\u001b[1;32m     62\u001b[0m         \u001b[0;32mtry\u001b[0m\u001b[0;34m:\u001b[0m\u001b[0;34m\u001b[0m\u001b[0;34m\u001b[0m\u001b[0m\n\u001b[0;32m---> 63\u001b[0;31m             \u001b[0;32mreturn\u001b[0m \u001b[0mf\u001b[0m\u001b[0;34m(\u001b[0m\u001b[0;34m*\u001b[0m\u001b[0ma\u001b[0m\u001b[0;34m,\u001b[0m \u001b[0;34m**\u001b[0m\u001b[0mkw\u001b[0m\u001b[0;34m)\u001b[0m\u001b[0;34m\u001b[0m\u001b[0;34m\u001b[0m\u001b[0m\n\u001b[0m\u001b[1;32m     64\u001b[0m         \u001b[0;32mexcept\u001b[0m \u001b[0mpy4j\u001b[0m\u001b[0;34m.\u001b[0m\u001b[0mprotocol\u001b[0m\u001b[0;34m.\u001b[0m\u001b[0mPy4JJavaError\u001b[0m \u001b[0;32mas\u001b[0m \u001b[0me\u001b[0m\u001b[0;34m:\u001b[0m\u001b[0;34m\u001b[0m\u001b[0;34m\u001b[0m\u001b[0m\n",
      "\u001b[0;32m/opt/spark/python/lib/py4j-0.10.7-src.zip/py4j/protocol.py\u001b[0m in \u001b[0;36mget_return_value\u001b[0;34m(answer, gateway_client, target_id, name)\u001b[0m\n\u001b[1;32m    327\u001b[0m                     \u001b[0;34m\"An error occurred while calling {0}{1}{2}.\\n\"\u001b[0m\u001b[0;34m.\u001b[0m\u001b[0;34m\u001b[0m\u001b[0;34m\u001b[0m\u001b[0m\n\u001b[0;32m--> 328\u001b[0;31m                     format(target_id, \".\", name), value)\n\u001b[0m\u001b[1;32m    329\u001b[0m             \u001b[0;32melse\u001b[0m\u001b[0;34m:\u001b[0m\u001b[0;34m\u001b[0m\u001b[0;34m\u001b[0m\u001b[0m\n",
      "\u001b[0;31mPy4JJavaError\u001b[0m: An error occurred while calling o1084.saveAsTable.\n: org.apache.spark.sql.AnalysisException: Can not create the managed table('`covid_por_municipio`'). The associated location('hdfs://namenode:8020/user/hive/warehouse/covid_por_municipio') already exists.;\n\tat org.apache.spark.sql.catalyst.catalog.SessionCatalog.validateTableLocation(SessionCatalog.scala:336)\n\tat org.apache.spark.sql.execution.command.CreateDataSourceTableAsSelectCommand.run(createDataSourceTables.scala:170)\n\tat org.apache.spark.sql.execution.command.DataWritingCommandExec.sideEffectResult$lzycompute(commands.scala:104)\n\tat org.apache.spark.sql.execution.command.DataWritingCommandExec.sideEffectResult(commands.scala:102)\n\tat org.apache.spark.sql.execution.command.DataWritingCommandExec.doExecute(commands.scala:122)\n\tat org.apache.spark.sql.execution.SparkPlan$$anonfun$execute$1.apply(SparkPlan.scala:131)\n\tat org.apache.spark.sql.execution.SparkPlan$$anonfun$execute$1.apply(SparkPlan.scala:127)\n\tat org.apache.spark.sql.execution.SparkPlan$$anonfun$executeQuery$1.apply(SparkPlan.scala:155)\n\tat org.apache.spark.rdd.RDDOperationScope$.withScope(RDDOperationScope.scala:151)\n\tat org.apache.spark.sql.execution.SparkPlan.executeQuery(SparkPlan.scala:152)\n\tat org.apache.spark.sql.execution.SparkPlan.execute(SparkPlan.scala:127)\n\tat org.apache.spark.sql.execution.QueryExecution.toRdd$lzycompute(QueryExecution.scala:80)\n\tat org.apache.spark.sql.execution.QueryExecution.toRdd(QueryExecution.scala:80)\n\tat org.apache.spark.sql.DataFrameWriter$$anonfun$runCommand$1.apply(DataFrameWriter.scala:668)\n\tat org.apache.spark.sql.DataFrameWriter$$anonfun$runCommand$1.apply(DataFrameWriter.scala:668)\n\tat org.apache.spark.sql.execution.SQLExecution$$anonfun$withNewExecutionId$1.apply(SQLExecution.scala:78)\n\tat org.apache.spark.sql.execution.SQLExecution$.withSQLConfPropagated(SQLExecution.scala:125)\n\tat org.apache.spark.sql.execution.SQLExecution$.withNewExecutionId(SQLExecution.scala:73)\n\tat org.apache.spark.sql.DataFrameWriter.runCommand(DataFrameWriter.scala:668)\n\tat org.apache.spark.sql.DataFrameWriter.createTable(DataFrameWriter.scala:465)\n\tat org.apache.spark.sql.DataFrameWriter.saveAsTable(DataFrameWriter.scala:444)\n\tat org.apache.spark.sql.DataFrameWriter.saveAsTable(DataFrameWriter.scala:400)\n\tat sun.reflect.NativeMethodAccessorImpl.invoke0(Native Method)\n\tat sun.reflect.NativeMethodAccessorImpl.invoke(NativeMethodAccessorImpl.java:62)\n\tat sun.reflect.DelegatingMethodAccessorImpl.invoke(DelegatingMethodAccessorImpl.java:43)\n\tat java.lang.reflect.Method.invoke(Method.java:498)\n\tat py4j.reflection.MethodInvoker.invoke(MethodInvoker.java:244)\n\tat py4j.reflection.ReflectionEngine.invoke(ReflectionEngine.java:357)\n\tat py4j.Gateway.invoke(Gateway.java:282)\n\tat py4j.commands.AbstractCommand.invokeMethod(AbstractCommand.java:132)\n\tat py4j.commands.CallCommand.execute(CallCommand.java:79)\n\tat py4j.GatewayConnection.run(GatewayConnection.java:238)\n\tat java.lang.Thread.run(Thread.java:748)\n",
      "\nDuring handling of the above exception, another exception occurred:\n",
      "\u001b[0;31mAnalysisException\u001b[0m                         Traceback (most recent call last)",
      "\u001b[0;32m<ipython-input-113-7168f4ab6b35>\u001b[0m in \u001b[0;36m<module>\u001b[0;34m()\u001b[0m\n\u001b[1;32m      1\u001b[0m covid_mun.write.saveAsTable(\"covid_por_municipio\",\n\u001b[1;32m      2\u001b[0m                             \u001b[0mpartitionBy\u001b[0m\u001b[0;34m=\u001b[0m\u001b[0;34m\"mes\"\u001b[0m\u001b[0;34m,\u001b[0m\u001b[0;34m\u001b[0m\u001b[0;34m\u001b[0m\u001b[0m\n\u001b[0;32m----> 3\u001b[0;31m                             mode=\"overwrite\")\n\u001b[0m",
      "\u001b[0;32m/opt/spark/python/pyspark/sql/readwriter.py\u001b[0m in \u001b[0;36msaveAsTable\u001b[0;34m(self, name, format, mode, partitionBy, **options)\u001b[0m\n\u001b[1;32m    773\u001b[0m         \u001b[0;32mif\u001b[0m \u001b[0mformat\u001b[0m \u001b[0;32mis\u001b[0m \u001b[0;32mnot\u001b[0m \u001b[0;32mNone\u001b[0m\u001b[0;34m:\u001b[0m\u001b[0;34m\u001b[0m\u001b[0;34m\u001b[0m\u001b[0m\n\u001b[1;32m    774\u001b[0m             \u001b[0mself\u001b[0m\u001b[0;34m.\u001b[0m\u001b[0mformat\u001b[0m\u001b[0;34m(\u001b[0m\u001b[0mformat\u001b[0m\u001b[0;34m)\u001b[0m\u001b[0;34m\u001b[0m\u001b[0;34m\u001b[0m\u001b[0m\n\u001b[0;32m--> 775\u001b[0;31m         \u001b[0mself\u001b[0m\u001b[0;34m.\u001b[0m\u001b[0m_jwrite\u001b[0m\u001b[0;34m.\u001b[0m\u001b[0msaveAsTable\u001b[0m\u001b[0;34m(\u001b[0m\u001b[0mname\u001b[0m\u001b[0;34m)\u001b[0m\u001b[0;34m\u001b[0m\u001b[0;34m\u001b[0m\u001b[0m\n\u001b[0m\u001b[1;32m    776\u001b[0m \u001b[0;34m\u001b[0m\u001b[0m\n\u001b[1;32m    777\u001b[0m     \u001b[0;34m@\u001b[0m\u001b[0msince\u001b[0m\u001b[0;34m(\u001b[0m\u001b[0;36m1.4\u001b[0m\u001b[0;34m)\u001b[0m\u001b[0;34m\u001b[0m\u001b[0;34m\u001b[0m\u001b[0m\n",
      "\u001b[0;32m/opt/spark/python/lib/py4j-0.10.7-src.zip/py4j/java_gateway.py\u001b[0m in \u001b[0;36m__call__\u001b[0;34m(self, *args)\u001b[0m\n\u001b[1;32m   1255\u001b[0m         \u001b[0manswer\u001b[0m \u001b[0;34m=\u001b[0m \u001b[0mself\u001b[0m\u001b[0;34m.\u001b[0m\u001b[0mgateway_client\u001b[0m\u001b[0;34m.\u001b[0m\u001b[0msend_command\u001b[0m\u001b[0;34m(\u001b[0m\u001b[0mcommand\u001b[0m\u001b[0;34m)\u001b[0m\u001b[0;34m\u001b[0m\u001b[0;34m\u001b[0m\u001b[0m\n\u001b[1;32m   1256\u001b[0m         return_value = get_return_value(\n\u001b[0;32m-> 1257\u001b[0;31m             answer, self.gateway_client, self.target_id, self.name)\n\u001b[0m\u001b[1;32m   1258\u001b[0m \u001b[0;34m\u001b[0m\u001b[0m\n\u001b[1;32m   1259\u001b[0m         \u001b[0;32mfor\u001b[0m \u001b[0mtemp_arg\u001b[0m \u001b[0;32min\u001b[0m \u001b[0mtemp_args\u001b[0m\u001b[0;34m:\u001b[0m\u001b[0;34m\u001b[0m\u001b[0;34m\u001b[0m\u001b[0m\n",
      "\u001b[0;32m/opt/spark/python/pyspark/sql/utils.py\u001b[0m in \u001b[0;36mdeco\u001b[0;34m(*a, **kw)\u001b[0m\n\u001b[1;32m     67\u001b[0m                                              e.java_exception.getStackTrace()))\n\u001b[1;32m     68\u001b[0m             \u001b[0;32mif\u001b[0m \u001b[0ms\u001b[0m\u001b[0;34m.\u001b[0m\u001b[0mstartswith\u001b[0m\u001b[0;34m(\u001b[0m\u001b[0;34m'org.apache.spark.sql.AnalysisException: '\u001b[0m\u001b[0;34m)\u001b[0m\u001b[0;34m:\u001b[0m\u001b[0;34m\u001b[0m\u001b[0;34m\u001b[0m\u001b[0m\n\u001b[0;32m---> 69\u001b[0;31m                 \u001b[0;32mraise\u001b[0m \u001b[0mAnalysisException\u001b[0m\u001b[0;34m(\u001b[0m\u001b[0ms\u001b[0m\u001b[0;34m.\u001b[0m\u001b[0msplit\u001b[0m\u001b[0;34m(\u001b[0m\u001b[0;34m': '\u001b[0m\u001b[0;34m,\u001b[0m \u001b[0;36m1\u001b[0m\u001b[0;34m)\u001b[0m\u001b[0;34m[\u001b[0m\u001b[0;36m1\u001b[0m\u001b[0;34m]\u001b[0m\u001b[0;34m,\u001b[0m \u001b[0mstackTrace\u001b[0m\u001b[0;34m)\u001b[0m\u001b[0;34m\u001b[0m\u001b[0;34m\u001b[0m\u001b[0m\n\u001b[0m\u001b[1;32m     70\u001b[0m             \u001b[0;32mif\u001b[0m \u001b[0ms\u001b[0m\u001b[0;34m.\u001b[0m\u001b[0mstartswith\u001b[0m\u001b[0;34m(\u001b[0m\u001b[0;34m'org.apache.spark.sql.catalyst.analysis'\u001b[0m\u001b[0;34m)\u001b[0m\u001b[0;34m:\u001b[0m\u001b[0;34m\u001b[0m\u001b[0;34m\u001b[0m\u001b[0m\n\u001b[1;32m     71\u001b[0m                 \u001b[0;32mraise\u001b[0m \u001b[0mAnalysisException\u001b[0m\u001b[0;34m(\u001b[0m\u001b[0ms\u001b[0m\u001b[0;34m.\u001b[0m\u001b[0msplit\u001b[0m\u001b[0;34m(\u001b[0m\u001b[0;34m': '\u001b[0m\u001b[0;34m,\u001b[0m \u001b[0;36m1\u001b[0m\u001b[0;34m)\u001b[0m\u001b[0;34m[\u001b[0m\u001b[0;36m1\u001b[0m\u001b[0;34m]\u001b[0m\u001b[0;34m,\u001b[0m \u001b[0mstackTrace\u001b[0m\u001b[0;34m)\u001b[0m\u001b[0;34m\u001b[0m\u001b[0;34m\u001b[0m\u001b[0m\n",
      "\u001b[0;31mAnalysisException\u001b[0m: \"Can not create the managed table('`covid_por_municipio`'). The associated location('hdfs://namenode:8020/user/hive/warehouse/covid_por_municipio') already exists.;\""
     ]
    }
   ],
   "source": [
    "covid_mun.write.saveAsTable(\"covid_por_municipio\",\n",
    "                            partitionBy=\"mes\",\n",
    "                            mode=\"overwrite\")"
   ]
  },
  {
   "cell_type": "code",
   "execution_count": 11,
   "metadata": {
    "collapsed": true
   },
   "outputs": [
    {
     "name": "stdout",
     "output_type": "stream",
     "text": [
      "Found 201 items\r\n",
      "-rw-r--r--   2 root supergroup          0 2022-04-25 01:32 /user/hive/warehouse/covid_por_municipio/_SUCCESS\r\n",
      "-rw-r--r--   2 root supergroup      10520 2022-04-25 01:32 /user/hive/warehouse/covid_por_municipio/part-00000-9f251a84-5d84-4191-b28a-18da84c058dd-c000.snappy.parquet\r\n",
      "-rw-r--r--   2 root supergroup      10542 2022-04-25 01:32 /user/hive/warehouse/covid_por_municipio/part-00001-9f251a84-5d84-4191-b28a-18da84c058dd-c000.snappy.parquet\r\n",
      "-rw-r--r--   2 root supergroup      10400 2022-04-25 01:32 /user/hive/warehouse/covid_por_municipio/part-00002-9f251a84-5d84-4191-b28a-18da84c058dd-c000.snappy.parquet\r\n",
      "-rw-r--r--   2 root supergroup      10485 2022-04-25 01:32 /user/hive/warehouse/covid_por_municipio/part-00003-9f251a84-5d84-4191-b28a-18da84c058dd-c000.snappy.parquet\r\n",
      "-rw-r--r--   2 root supergroup      10274 2022-04-25 01:32 /user/hive/warehouse/covid_por_municipio/part-00004-9f251a84-5d84-4191-b28a-18da84c058dd-c000.snappy.parquet\r\n",
      "-rw-r--r--   2 root supergroup       9929 2022-04-25 01:32 /user/hive/warehouse/covid_por_municipio/part-00005-9f251a84-5d84-4191-b28a-18da84c058dd-c000.snappy.parquet\r\n",
      "-rw-r--r--   2 root supergroup      10837 2022-04-25 01:32 /user/hive/warehouse/covid_por_municipio/part-00006-9f251a84-5d84-4191-b28a-18da84c058dd-c000.snappy.parquet\r\n",
      "-rw-r--r--   2 root supergroup      11436 2022-04-25 01:32 /user/hive/warehouse/covid_por_municipio/part-00007-9f251a84-5d84-4191-b28a-18da84c058dd-c000.snappy.parquet\r\n",
      "-rw-r--r--   2 root supergroup      11694 2022-04-25 01:32 /user/hive/warehouse/covid_por_municipio/part-00008-9f251a84-5d84-4191-b28a-18da84c058dd-c000.snappy.parquet\r\n",
      "-rw-r--r--   2 root supergroup      10314 2022-04-25 01:32 /user/hive/warehouse/covid_por_municipio/part-00009-9f251a84-5d84-4191-b28a-18da84c058dd-c000.snappy.parquet\r\n",
      "-rw-r--r--   2 root supergroup      10531 2022-04-25 01:32 /user/hive/warehouse/covid_por_municipio/part-00010-9f251a84-5d84-4191-b28a-18da84c058dd-c000.snappy.parquet\r\n",
      "-rw-r--r--   2 root supergroup      10785 2022-04-25 01:32 /user/hive/warehouse/covid_por_municipio/part-00011-9f251a84-5d84-4191-b28a-18da84c058dd-c000.snappy.parquet\r\n",
      "-rw-r--r--   2 root supergroup       9753 2022-04-25 01:32 /user/hive/warehouse/covid_por_municipio/part-00012-9f251a84-5d84-4191-b28a-18da84c058dd-c000.snappy.parquet\r\n",
      "-rw-r--r--   2 root supergroup      10469 2022-04-25 01:32 /user/hive/warehouse/covid_por_municipio/part-00013-9f251a84-5d84-4191-b28a-18da84c058dd-c000.snappy.parquet\r\n",
      "-rw-r--r--   2 root supergroup      11141 2022-04-25 01:32 /user/hive/warehouse/covid_por_municipio/part-00014-9f251a84-5d84-4191-b28a-18da84c058dd-c000.snappy.parquet\r\n",
      "-rw-r--r--   2 root supergroup      11194 2022-04-25 01:32 /user/hive/warehouse/covid_por_municipio/part-00015-9f251a84-5d84-4191-b28a-18da84c058dd-c000.snappy.parquet\r\n",
      "-rw-r--r--   2 root supergroup      10943 2022-04-25 01:32 /user/hive/warehouse/covid_por_municipio/part-00016-9f251a84-5d84-4191-b28a-18da84c058dd-c000.snappy.parquet\r\n",
      "-rw-r--r--   2 root supergroup      10592 2022-04-25 01:32 /user/hive/warehouse/covid_por_municipio/part-00017-9f251a84-5d84-4191-b28a-18da84c058dd-c000.snappy.parquet\r\n",
      "-rw-r--r--   2 root supergroup      10495 2022-04-25 01:32 /user/hive/warehouse/covid_por_municipio/part-00018-9f251a84-5d84-4191-b28a-18da84c058dd-c000.snappy.parquet\r\n",
      "-rw-r--r--   2 root supergroup      10649 2022-04-25 01:32 /user/hive/warehouse/covid_por_municipio/part-00019-9f251a84-5d84-4191-b28a-18da84c058dd-c000.snappy.parquet\r\n",
      "-rw-r--r--   2 root supergroup      11167 2022-04-25 01:32 /user/hive/warehouse/covid_por_municipio/part-00020-9f251a84-5d84-4191-b28a-18da84c058dd-c000.snappy.parquet\r\n",
      "-rw-r--r--   2 root supergroup      11624 2022-04-25 01:32 /user/hive/warehouse/covid_por_municipio/part-00021-9f251a84-5d84-4191-b28a-18da84c058dd-c000.snappy.parquet\r\n",
      "-rw-r--r--   2 root supergroup      10495 2022-04-25 01:32 /user/hive/warehouse/covid_por_municipio/part-00022-9f251a84-5d84-4191-b28a-18da84c058dd-c000.snappy.parquet\r\n",
      "-rw-r--r--   2 root supergroup      10448 2022-04-25 01:32 /user/hive/warehouse/covid_por_municipio/part-00023-9f251a84-5d84-4191-b28a-18da84c058dd-c000.snappy.parquet\r\n",
      "-rw-r--r--   2 root supergroup      10255 2022-04-25 01:32 /user/hive/warehouse/covid_por_municipio/part-00024-9f251a84-5d84-4191-b28a-18da84c058dd-c000.snappy.parquet\r\n",
      "-rw-r--r--   2 root supergroup       9912 2022-04-25 01:32 /user/hive/warehouse/covid_por_municipio/part-00025-9f251a84-5d84-4191-b28a-18da84c058dd-c000.snappy.parquet\r\n",
      "-rw-r--r--   2 root supergroup      10873 2022-04-25 01:32 /user/hive/warehouse/covid_por_municipio/part-00026-9f251a84-5d84-4191-b28a-18da84c058dd-c000.snappy.parquet\r\n",
      "-rw-r--r--   2 root supergroup      11276 2022-04-25 01:32 /user/hive/warehouse/covid_por_municipio/part-00027-9f251a84-5d84-4191-b28a-18da84c058dd-c000.snappy.parquet\r\n",
      "-rw-r--r--   2 root supergroup      10493 2022-04-25 01:32 /user/hive/warehouse/covid_por_municipio/part-00028-9f251a84-5d84-4191-b28a-18da84c058dd-c000.snappy.parquet\r\n",
      "-rw-r--r--   2 root supergroup      11017 2022-04-25 01:32 /user/hive/warehouse/covid_por_municipio/part-00029-9f251a84-5d84-4191-b28a-18da84c058dd-c000.snappy.parquet\r\n",
      "-rw-r--r--   2 root supergroup      10607 2022-04-25 01:32 /user/hive/warehouse/covid_por_municipio/part-00030-9f251a84-5d84-4191-b28a-18da84c058dd-c000.snappy.parquet\r\n",
      "-rw-r--r--   2 root supergroup      10216 2022-04-25 01:32 /user/hive/warehouse/covid_por_municipio/part-00031-9f251a84-5d84-4191-b28a-18da84c058dd-c000.snappy.parquet\r\n",
      "-rw-r--r--   2 root supergroup      10312 2022-04-25 01:32 /user/hive/warehouse/covid_por_municipio/part-00032-9f251a84-5d84-4191-b28a-18da84c058dd-c000.snappy.parquet\r\n",
      "-rw-r--r--   2 root supergroup      10719 2022-04-25 01:32 /user/hive/warehouse/covid_por_municipio/part-00033-9f251a84-5d84-4191-b28a-18da84c058dd-c000.snappy.parquet\r\n",
      "-rw-r--r--   2 root supergroup      10370 2022-04-25 01:32 /user/hive/warehouse/covid_por_municipio/part-00034-9f251a84-5d84-4191-b28a-18da84c058dd-c000.snappy.parquet\r\n",
      "-rw-r--r--   2 root supergroup      10503 2022-04-25 01:32 /user/hive/warehouse/covid_por_municipio/part-00035-9f251a84-5d84-4191-b28a-18da84c058dd-c000.snappy.parquet\r\n",
      "-rw-r--r--   2 root supergroup      10657 2022-04-25 01:32 /user/hive/warehouse/covid_por_municipio/part-00036-9f251a84-5d84-4191-b28a-18da84c058dd-c000.snappy.parquet\r\n",
      "-rw-r--r--   2 root supergroup      11316 2022-04-25 01:32 /user/hive/warehouse/covid_por_municipio/part-00037-9f251a84-5d84-4191-b28a-18da84c058dd-c000.snappy.parquet\r\n",
      "-rw-r--r--   2 root supergroup      10482 2022-04-25 01:32 /user/hive/warehouse/covid_por_municipio/part-00038-9f251a84-5d84-4191-b28a-18da84c058dd-c000.snappy.parquet\r\n",
      "-rw-r--r--   2 root supergroup      10666 2022-04-25 01:32 /user/hive/warehouse/covid_por_municipio/part-00039-9f251a84-5d84-4191-b28a-18da84c058dd-c000.snappy.parquet\r\n",
      "-rw-r--r--   2 root supergroup      10778 2022-04-25 01:32 /user/hive/warehouse/covid_por_municipio/part-00040-9f251a84-5d84-4191-b28a-18da84c058dd-c000.snappy.parquet\r\n",
      "-rw-r--r--   2 root supergroup      10688 2022-04-25 01:32 /user/hive/warehouse/covid_por_municipio/part-00041-9f251a84-5d84-4191-b28a-18da84c058dd-c000.snappy.parquet\r\n",
      "-rw-r--r--   2 root supergroup      10591 2022-04-25 01:32 /user/hive/warehouse/covid_por_municipio/part-00042-9f251a84-5d84-4191-b28a-18da84c058dd-c000.snappy.parquet\r\n",
      "-rw-r--r--   2 root supergroup      10648 2022-04-25 01:32 /user/hive/warehouse/covid_por_municipio/part-00043-9f251a84-5d84-4191-b28a-18da84c058dd-c000.snappy.parquet\r\n",
      "-rw-r--r--   2 root supergroup       9632 2022-04-25 01:32 /user/hive/warehouse/covid_por_municipio/part-00044-9f251a84-5d84-4191-b28a-18da84c058dd-c000.snappy.parquet\r\n",
      "-rw-r--r--   2 root supergroup      10425 2022-04-25 01:32 /user/hive/warehouse/covid_por_municipio/part-00045-9f251a84-5d84-4191-b28a-18da84c058dd-c000.snappy.parquet\r\n",
      "-rw-r--r--   2 root supergroup      10517 2022-04-25 01:32 /user/hive/warehouse/covid_por_municipio/part-00046-9f251a84-5d84-4191-b28a-18da84c058dd-c000.snappy.parquet\r\n",
      "-rw-r--r--   2 root supergroup      10230 2022-04-25 01:32 /user/hive/warehouse/covid_por_municipio/part-00047-9f251a84-5d84-4191-b28a-18da84c058dd-c000.snappy.parquet\r\n",
      "-rw-r--r--   2 root supergroup      10090 2022-04-25 01:32 /user/hive/warehouse/covid_por_municipio/part-00048-9f251a84-5d84-4191-b28a-18da84c058dd-c000.snappy.parquet\r\n",
      "-rw-r--r--   2 root supergroup      10812 2022-04-25 01:32 /user/hive/warehouse/covid_por_municipio/part-00049-9f251a84-5d84-4191-b28a-18da84c058dd-c000.snappy.parquet\r\n",
      "-rw-r--r--   2 root supergroup      10748 2022-04-25 01:32 /user/hive/warehouse/covid_por_municipio/part-00050-9f251a84-5d84-4191-b28a-18da84c058dd-c000.snappy.parquet\r\n",
      "-rw-r--r--   2 root supergroup      10614 2022-04-25 01:32 /user/hive/warehouse/covid_por_municipio/part-00051-9f251a84-5d84-4191-b28a-18da84c058dd-c000.snappy.parquet\r\n",
      "-rw-r--r--   2 root supergroup      10622 2022-04-25 01:32 /user/hive/warehouse/covid_por_municipio/part-00052-9f251a84-5d84-4191-b28a-18da84c058dd-c000.snappy.parquet\r\n",
      "-rw-r--r--   2 root supergroup      11173 2022-04-25 01:32 /user/hive/warehouse/covid_por_municipio/part-00053-9f251a84-5d84-4191-b28a-18da84c058dd-c000.snappy.parquet\r\n",
      "-rw-r--r--   2 root supergroup      10093 2022-04-25 01:32 /user/hive/warehouse/covid_por_municipio/part-00054-9f251a84-5d84-4191-b28a-18da84c058dd-c000.snappy.parquet\r\n",
      "-rw-r--r--   2 root supergroup      10527 2022-04-25 01:32 /user/hive/warehouse/covid_por_municipio/part-00055-9f251a84-5d84-4191-b28a-18da84c058dd-c000.snappy.parquet\r\n",
      "-rw-r--r--   2 root supergroup      10125 2022-04-25 01:32 /user/hive/warehouse/covid_por_municipio/part-00056-9f251a84-5d84-4191-b28a-18da84c058dd-c000.snappy.parquet\r\n",
      "-rw-r--r--   2 root supergroup      10346 2022-04-25 01:32 /user/hive/warehouse/covid_por_municipio/part-00057-9f251a84-5d84-4191-b28a-18da84c058dd-c000.snappy.parquet\r\n",
      "-rw-r--r--   2 root supergroup      10813 2022-04-25 01:32 /user/hive/warehouse/covid_por_municipio/part-00058-9f251a84-5d84-4191-b28a-18da84c058dd-c000.snappy.parquet\r\n",
      "-rw-r--r--   2 root supergroup      10361 2022-04-25 01:32 /user/hive/warehouse/covid_por_municipio/part-00059-9f251a84-5d84-4191-b28a-18da84c058dd-c000.snappy.parquet\r\n",
      "-rw-r--r--   2 root supergroup      10769 2022-04-25 01:32 /user/hive/warehouse/covid_por_municipio/part-00060-9f251a84-5d84-4191-b28a-18da84c058dd-c000.snappy.parquet\r\n",
      "-rw-r--r--   2 root supergroup      10043 2022-04-25 01:32 /user/hive/warehouse/covid_por_municipio/part-00061-9f251a84-5d84-4191-b28a-18da84c058dd-c000.snappy.parquet\r\n",
      "-rw-r--r--   2 root supergroup      10035 2022-04-25 01:32 /user/hive/warehouse/covid_por_municipio/part-00062-9f251a84-5d84-4191-b28a-18da84c058dd-c000.snappy.parquet\r\n",
      "-rw-r--r--   2 root supergroup      10615 2022-04-25 01:32 /user/hive/warehouse/covid_por_municipio/part-00063-9f251a84-5d84-4191-b28a-18da84c058dd-c000.snappy.parquet\r\n",
      "-rw-r--r--   2 root supergroup      10932 2022-04-25 01:32 /user/hive/warehouse/covid_por_municipio/part-00064-9f251a84-5d84-4191-b28a-18da84c058dd-c000.snappy.parquet\r\n",
      "-rw-r--r--   2 root supergroup      10544 2022-04-25 01:32 /user/hive/warehouse/covid_por_municipio/part-00065-9f251a84-5d84-4191-b28a-18da84c058dd-c000.snappy.parquet\r\n",
      "-rw-r--r--   2 root supergroup      10850 2022-04-25 01:32 /user/hive/warehouse/covid_por_municipio/part-00066-9f251a84-5d84-4191-b28a-18da84c058dd-c000.snappy.parquet\r\n",
      "-rw-r--r--   2 root supergroup      11414 2022-04-25 01:32 /user/hive/warehouse/covid_por_municipio/part-00067-9f251a84-5d84-4191-b28a-18da84c058dd-c000.snappy.parquet\r\n",
      "-rw-r--r--   2 root supergroup      10315 2022-04-25 01:32 /user/hive/warehouse/covid_por_municipio/part-00068-9f251a84-5d84-4191-b28a-18da84c058dd-c000.snappy.parquet\r\n",
      "-rw-r--r--   2 root supergroup       9965 2022-04-25 01:32 /user/hive/warehouse/covid_por_municipio/part-00069-9f251a84-5d84-4191-b28a-18da84c058dd-c000.snappy.parquet\r\n",
      "-rw-r--r--   2 root supergroup      10539 2022-04-25 01:32 /user/hive/warehouse/covid_por_municipio/part-00070-9f251a84-5d84-4191-b28a-18da84c058dd-c000.snappy.parquet\r\n",
      "-rw-r--r--   2 root supergroup      10847 2022-04-25 01:32 /user/hive/warehouse/covid_por_municipio/part-00071-9f251a84-5d84-4191-b28a-18da84c058dd-c000.snappy.parquet\r\n",
      "-rw-r--r--   2 root supergroup      10318 2022-04-25 01:32 /user/hive/warehouse/covid_por_municipio/part-00072-9f251a84-5d84-4191-b28a-18da84c058dd-c000.snappy.parquet\r\n",
      "-rw-r--r--   2 root supergroup      10329 2022-04-25 01:32 /user/hive/warehouse/covid_por_municipio/part-00073-9f251a84-5d84-4191-b28a-18da84c058dd-c000.snappy.parquet\r\n",
      "-rw-r--r--   2 root supergroup      10886 2022-04-25 01:32 /user/hive/warehouse/covid_por_municipio/part-00074-9f251a84-5d84-4191-b28a-18da84c058dd-c000.snappy.parquet\r\n",
      "-rw-r--r--   2 root supergroup      10664 2022-04-25 01:32 /user/hive/warehouse/covid_por_municipio/part-00075-9f251a84-5d84-4191-b28a-18da84c058dd-c000.snappy.parquet\r\n",
      "-rw-r--r--   2 root supergroup      10874 2022-04-25 01:32 /user/hive/warehouse/covid_por_municipio/part-00076-9f251a84-5d84-4191-b28a-18da84c058dd-c000.snappy.parquet\r\n",
      "-rw-r--r--   2 root supergroup      10358 2022-04-25 01:32 /user/hive/warehouse/covid_por_municipio/part-00077-9f251a84-5d84-4191-b28a-18da84c058dd-c000.snappy.parquet\r\n",
      "-rw-r--r--   2 root supergroup      11167 2022-04-25 01:32 /user/hive/warehouse/covid_por_municipio/part-00078-9f251a84-5d84-4191-b28a-18da84c058dd-c000.snappy.parquet\r\n",
      "-rw-r--r--   2 root supergroup      10796 2022-04-25 01:32 /user/hive/warehouse/covid_por_municipio/part-00079-9f251a84-5d84-4191-b28a-18da84c058dd-c000.snappy.parquet\r\n",
      "-rw-r--r--   2 root supergroup      12004 2022-04-25 01:32 /user/hive/warehouse/covid_por_municipio/part-00080-9f251a84-5d84-4191-b28a-18da84c058dd-c000.snappy.parquet\r\n",
      "-rw-r--r--   2 root supergroup      10155 2022-04-25 01:32 /user/hive/warehouse/covid_por_municipio/part-00081-9f251a84-5d84-4191-b28a-18da84c058dd-c000.snappy.parquet\r\n",
      "-rw-r--r--   2 root supergroup      10183 2022-04-25 01:32 /user/hive/warehouse/covid_por_municipio/part-00082-9f251a84-5d84-4191-b28a-18da84c058dd-c000.snappy.parquet\r\n",
      "-rw-r--r--   2 root supergroup      10774 2022-04-25 01:32 /user/hive/warehouse/covid_por_municipio/part-00083-9f251a84-5d84-4191-b28a-18da84c058dd-c000.snappy.parquet\r\n",
      "-rw-r--r--   2 root supergroup      10938 2022-04-25 01:32 /user/hive/warehouse/covid_por_municipio/part-00084-9f251a84-5d84-4191-b28a-18da84c058dd-c000.snappy.parquet\r\n",
      "-rw-r--r--   2 root supergroup      10431 2022-04-25 01:32 /user/hive/warehouse/covid_por_municipio/part-00085-9f251a84-5d84-4191-b28a-18da84c058dd-c000.snappy.parquet\r\n",
      "-rw-r--r--   2 root supergroup      11045 2022-04-25 01:32 /user/hive/warehouse/covid_por_municipio/part-00086-9f251a84-5d84-4191-b28a-18da84c058dd-c000.snappy.parquet\r\n",
      "-rw-r--r--   2 root supergroup      10373 2022-04-25 01:32 /user/hive/warehouse/covid_por_municipio/part-00087-9f251a84-5d84-4191-b28a-18da84c058dd-c000.snappy.parquet\r\n",
      "-rw-r--r--   2 root supergroup      10331 2022-04-25 01:32 /user/hive/warehouse/covid_por_municipio/part-00088-9f251a84-5d84-4191-b28a-18da84c058dd-c000.snappy.parquet\r\n",
      "-rw-r--r--   2 root supergroup      10798 2022-04-25 01:32 /user/hive/warehouse/covid_por_municipio/part-00089-9f251a84-5d84-4191-b28a-18da84c058dd-c000.snappy.parquet\r\n",
      "-rw-r--r--   2 root supergroup      10395 2022-04-25 01:32 /user/hive/warehouse/covid_por_municipio/part-00090-9f251a84-5d84-4191-b28a-18da84c058dd-c000.snappy.parquet\r\n",
      "-rw-r--r--   2 root supergroup       9981 2022-04-25 01:32 /user/hive/warehouse/covid_por_municipio/part-00091-9f251a84-5d84-4191-b28a-18da84c058dd-c000.snappy.parquet\r\n",
      "-rw-r--r--   2 root supergroup      10921 2022-04-25 01:32 /user/hive/warehouse/covid_por_municipio/part-00092-9f251a84-5d84-4191-b28a-18da84c058dd-c000.snappy.parquet\r\n",
      "-rw-r--r--   2 root supergroup      10621 2022-04-25 01:32 /user/hive/warehouse/covid_por_municipio/part-00093-9f251a84-5d84-4191-b28a-18da84c058dd-c000.snappy.parquet\r\n",
      "-rw-r--r--   2 root supergroup      10570 2022-04-25 01:32 /user/hive/warehouse/covid_por_municipio/part-00094-9f251a84-5d84-4191-b28a-18da84c058dd-c000.snappy.parquet\r\n",
      "-rw-r--r--   2 root supergroup      10488 2022-04-25 01:32 /user/hive/warehouse/covid_por_municipio/part-00095-9f251a84-5d84-4191-b28a-18da84c058dd-c000.snappy.parquet\r\n",
      "-rw-r--r--   2 root supergroup      10902 2022-04-25 01:32 /user/hive/warehouse/covid_por_municipio/part-00096-9f251a84-5d84-4191-b28a-18da84c058dd-c000.snappy.parquet\r\n",
      "-rw-r--r--   2 root supergroup      10501 2022-04-25 01:32 /user/hive/warehouse/covid_por_municipio/part-00097-9f251a84-5d84-4191-b28a-18da84c058dd-c000.snappy.parquet\r\n",
      "-rw-r--r--   2 root supergroup       9863 2022-04-25 01:32 /user/hive/warehouse/covid_por_municipio/part-00098-9f251a84-5d84-4191-b28a-18da84c058dd-c000.snappy.parquet\r\n",
      "-rw-r--r--   2 root supergroup      10079 2022-04-25 01:32 /user/hive/warehouse/covid_por_municipio/part-00099-9f251a84-5d84-4191-b28a-18da84c058dd-c000.snappy.parquet\r\n",
      "-rw-r--r--   2 root supergroup      10877 2022-04-25 01:32 /user/hive/warehouse/covid_por_municipio/part-00100-9f251a84-5d84-4191-b28a-18da84c058dd-c000.snappy.parquet\r\n",
      "-rw-r--r--   2 root supergroup      10510 2022-04-25 01:32 /user/hive/warehouse/covid_por_municipio/part-00101-9f251a84-5d84-4191-b28a-18da84c058dd-c000.snappy.parquet\r\n",
      "-rw-r--r--   2 root supergroup      10646 2022-04-25 01:32 /user/hive/warehouse/covid_por_municipio/part-00102-9f251a84-5d84-4191-b28a-18da84c058dd-c000.snappy.parquet\r\n",
      "-rw-r--r--   2 root supergroup      10722 2022-04-25 01:32 /user/hive/warehouse/covid_por_municipio/part-00103-9f251a84-5d84-4191-b28a-18da84c058dd-c000.snappy.parquet\r\n",
      "-rw-r--r--   2 root supergroup      11025 2022-04-25 01:32 /user/hive/warehouse/covid_por_municipio/part-00104-9f251a84-5d84-4191-b28a-18da84c058dd-c000.snappy.parquet\r\n",
      "-rw-r--r--   2 root supergroup      10680 2022-04-25 01:32 /user/hive/warehouse/covid_por_municipio/part-00105-9f251a84-5d84-4191-b28a-18da84c058dd-c000.snappy.parquet\r\n",
      "-rw-r--r--   2 root supergroup      10628 2022-04-25 01:32 /user/hive/warehouse/covid_por_municipio/part-00106-9f251a84-5d84-4191-b28a-18da84c058dd-c000.snappy.parquet\r\n",
      "-rw-r--r--   2 root supergroup      10532 2022-04-25 01:32 /user/hive/warehouse/covid_por_municipio/part-00107-9f251a84-5d84-4191-b28a-18da84c058dd-c000.snappy.parquet\r\n",
      "-rw-r--r--   2 root supergroup      10466 2022-04-25 01:32 /user/hive/warehouse/covid_por_municipio/part-00108-9f251a84-5d84-4191-b28a-18da84c058dd-c000.snappy.parquet\r\n",
      "-rw-r--r--   2 root supergroup      10050 2022-04-25 01:32 /user/hive/warehouse/covid_por_municipio/part-00109-9f251a84-5d84-4191-b28a-18da84c058dd-c000.snappy.parquet\r\n",
      "-rw-r--r--   2 root supergroup      10520 2022-04-25 01:32 /user/hive/warehouse/covid_por_municipio/part-00110-9f251a84-5d84-4191-b28a-18da84c058dd-c000.snappy.parquet\r\n",
      "-rw-r--r--   2 root supergroup      11271 2022-04-25 01:32 /user/hive/warehouse/covid_por_municipio/part-00111-9f251a84-5d84-4191-b28a-18da84c058dd-c000.snappy.parquet\r\n",
      "-rw-r--r--   2 root supergroup      10658 2022-04-25 01:32 /user/hive/warehouse/covid_por_municipio/part-00112-9f251a84-5d84-4191-b28a-18da84c058dd-c000.snappy.parquet\r\n",
      "-rw-r--r--   2 root supergroup      10460 2022-04-25 01:32 /user/hive/warehouse/covid_por_municipio/part-00113-9f251a84-5d84-4191-b28a-18da84c058dd-c000.snappy.parquet\r\n",
      "-rw-r--r--   2 root supergroup      10114 2022-04-25 01:32 /user/hive/warehouse/covid_por_municipio/part-00114-9f251a84-5d84-4191-b28a-18da84c058dd-c000.snappy.parquet\r\n",
      "-rw-r--r--   2 root supergroup      10506 2022-04-25 01:32 /user/hive/warehouse/covid_por_municipio/part-00115-9f251a84-5d84-4191-b28a-18da84c058dd-c000.snappy.parquet\r\n",
      "-rw-r--r--   2 root supergroup      11086 2022-04-25 01:32 /user/hive/warehouse/covid_por_municipio/part-00116-9f251a84-5d84-4191-b28a-18da84c058dd-c000.snappy.parquet\r\n",
      "-rw-r--r--   2 root supergroup      11037 2022-04-25 01:32 /user/hive/warehouse/covid_por_municipio/part-00117-9f251a84-5d84-4191-b28a-18da84c058dd-c000.snappy.parquet\r\n",
      "-rw-r--r--   2 root supergroup      10762 2022-04-25 01:32 /user/hive/warehouse/covid_por_municipio/part-00118-9f251a84-5d84-4191-b28a-18da84c058dd-c000.snappy.parquet\r\n",
      "-rw-r--r--   2 root supergroup      10706 2022-04-25 01:32 /user/hive/warehouse/covid_por_municipio/part-00119-9f251a84-5d84-4191-b28a-18da84c058dd-c000.snappy.parquet\r\n",
      "-rw-r--r--   2 root supergroup      10187 2022-04-25 01:32 /user/hive/warehouse/covid_por_municipio/part-00120-9f251a84-5d84-4191-b28a-18da84c058dd-c000.snappy.parquet\r\n",
      "-rw-r--r--   2 root supergroup      10489 2022-04-25 01:32 /user/hive/warehouse/covid_por_municipio/part-00121-9f251a84-5d84-4191-b28a-18da84c058dd-c000.snappy.parquet\r\n",
      "-rw-r--r--   2 root supergroup      10908 2022-04-25 01:32 /user/hive/warehouse/covid_por_municipio/part-00122-9f251a84-5d84-4191-b28a-18da84c058dd-c000.snappy.parquet\r\n",
      "-rw-r--r--   2 root supergroup      10269 2022-04-25 01:32 /user/hive/warehouse/covid_por_municipio/part-00123-9f251a84-5d84-4191-b28a-18da84c058dd-c000.snappy.parquet\r\n",
      "-rw-r--r--   2 root supergroup      10619 2022-04-25 01:32 /user/hive/warehouse/covid_por_municipio/part-00124-9f251a84-5d84-4191-b28a-18da84c058dd-c000.snappy.parquet\r\n",
      "-rw-r--r--   2 root supergroup      10776 2022-04-25 01:32 /user/hive/warehouse/covid_por_municipio/part-00125-9f251a84-5d84-4191-b28a-18da84c058dd-c000.snappy.parquet\r\n",
      "-rw-r--r--   2 root supergroup      10483 2022-04-25 01:32 /user/hive/warehouse/covid_por_municipio/part-00126-9f251a84-5d84-4191-b28a-18da84c058dd-c000.snappy.parquet\r\n",
      "-rw-r--r--   2 root supergroup      10036 2022-04-25 01:32 /user/hive/warehouse/covid_por_municipio/part-00127-9f251a84-5d84-4191-b28a-18da84c058dd-c000.snappy.parquet\r\n",
      "-rw-r--r--   2 root supergroup      10702 2022-04-25 01:32 /user/hive/warehouse/covid_por_municipio/part-00128-9f251a84-5d84-4191-b28a-18da84c058dd-c000.snappy.parquet\r\n",
      "-rw-r--r--   2 root supergroup      10773 2022-04-25 01:32 /user/hive/warehouse/covid_por_municipio/part-00129-9f251a84-5d84-4191-b28a-18da84c058dd-c000.snappy.parquet\r\n",
      "-rw-r--r--   2 root supergroup      11473 2022-04-25 01:32 /user/hive/warehouse/covid_por_municipio/part-00130-9f251a84-5d84-4191-b28a-18da84c058dd-c000.snappy.parquet\r\n",
      "-rw-r--r--   2 root supergroup      10045 2022-04-25 01:32 /user/hive/warehouse/covid_por_municipio/part-00131-9f251a84-5d84-4191-b28a-18da84c058dd-c000.snappy.parquet\r\n",
      "-rw-r--r--   2 root supergroup      10402 2022-04-25 01:32 /user/hive/warehouse/covid_por_municipio/part-00132-9f251a84-5d84-4191-b28a-18da84c058dd-c000.snappy.parquet\r\n",
      "-rw-r--r--   2 root supergroup      10509 2022-04-25 01:32 /user/hive/warehouse/covid_por_municipio/part-00133-9f251a84-5d84-4191-b28a-18da84c058dd-c000.snappy.parquet\r\n",
      "-rw-r--r--   2 root supergroup      10765 2022-04-25 01:32 /user/hive/warehouse/covid_por_municipio/part-00134-9f251a84-5d84-4191-b28a-18da84c058dd-c000.snappy.parquet\r\n",
      "-rw-r--r--   2 root supergroup      10995 2022-04-25 01:32 /user/hive/warehouse/covid_por_municipio/part-00135-9f251a84-5d84-4191-b28a-18da84c058dd-c000.snappy.parquet\r\n",
      "-rw-r--r--   2 root supergroup      10206 2022-04-25 01:32 /user/hive/warehouse/covid_por_municipio/part-00136-9f251a84-5d84-4191-b28a-18da84c058dd-c000.snappy.parquet\r\n",
      "-rw-r--r--   2 root supergroup      10335 2022-04-25 01:32 /user/hive/warehouse/covid_por_municipio/part-00137-9f251a84-5d84-4191-b28a-18da84c058dd-c000.snappy.parquet\r\n",
      "-rw-r--r--   2 root supergroup      10421 2022-04-25 01:32 /user/hive/warehouse/covid_por_municipio/part-00138-9f251a84-5d84-4191-b28a-18da84c058dd-c000.snappy.parquet\r\n",
      "-rw-r--r--   2 root supergroup      10563 2022-04-25 01:32 /user/hive/warehouse/covid_por_municipio/part-00139-9f251a84-5d84-4191-b28a-18da84c058dd-c000.snappy.parquet\r\n",
      "-rw-r--r--   2 root supergroup      10917 2022-04-25 01:32 /user/hive/warehouse/covid_por_municipio/part-00140-9f251a84-5d84-4191-b28a-18da84c058dd-c000.snappy.parquet\r\n",
      "-rw-r--r--   2 root supergroup      10286 2022-04-25 01:32 /user/hive/warehouse/covid_por_municipio/part-00141-9f251a84-5d84-4191-b28a-18da84c058dd-c000.snappy.parquet\r\n",
      "-rw-r--r--   2 root supergroup      10779 2022-04-25 01:32 /user/hive/warehouse/covid_por_municipio/part-00142-9f251a84-5d84-4191-b28a-18da84c058dd-c000.snappy.parquet\r\n",
      "-rw-r--r--   2 root supergroup      10091 2022-04-25 01:32 /user/hive/warehouse/covid_por_municipio/part-00143-9f251a84-5d84-4191-b28a-18da84c058dd-c000.snappy.parquet\r\n",
      "-rw-r--r--   2 root supergroup      10404 2022-04-25 01:32 /user/hive/warehouse/covid_por_municipio/part-00144-9f251a84-5d84-4191-b28a-18da84c058dd-c000.snappy.parquet\r\n",
      "-rw-r--r--   2 root supergroup      10502 2022-04-25 01:32 /user/hive/warehouse/covid_por_municipio/part-00145-9f251a84-5d84-4191-b28a-18da84c058dd-c000.snappy.parquet\r\n",
      "-rw-r--r--   2 root supergroup      11254 2022-04-25 01:32 /user/hive/warehouse/covid_por_municipio/part-00146-9f251a84-5d84-4191-b28a-18da84c058dd-c000.snappy.parquet\r\n",
      "-rw-r--r--   2 root supergroup      10733 2022-04-25 01:32 /user/hive/warehouse/covid_por_municipio/part-00147-9f251a84-5d84-4191-b28a-18da84c058dd-c000.snappy.parquet\r\n",
      "-rw-r--r--   2 root supergroup      10484 2022-04-25 01:32 /user/hive/warehouse/covid_por_municipio/part-00148-9f251a84-5d84-4191-b28a-18da84c058dd-c000.snappy.parquet\r\n",
      "-rw-r--r--   2 root supergroup      10535 2022-04-25 01:32 /user/hive/warehouse/covid_por_municipio/part-00149-9f251a84-5d84-4191-b28a-18da84c058dd-c000.snappy.parquet\r\n",
      "-rw-r--r--   2 root supergroup      10471 2022-04-25 01:32 /user/hive/warehouse/covid_por_municipio/part-00150-9f251a84-5d84-4191-b28a-18da84c058dd-c000.snappy.parquet\r\n",
      "-rw-r--r--   2 root supergroup      11020 2022-04-25 01:32 /user/hive/warehouse/covid_por_municipio/part-00151-9f251a84-5d84-4191-b28a-18da84c058dd-c000.snappy.parquet\r\n",
      "-rw-r--r--   2 root supergroup      10631 2022-04-25 01:32 /user/hive/warehouse/covid_por_municipio/part-00152-9f251a84-5d84-4191-b28a-18da84c058dd-c000.snappy.parquet\r\n",
      "-rw-r--r--   2 root supergroup      10848 2022-04-25 01:32 /user/hive/warehouse/covid_por_municipio/part-00153-9f251a84-5d84-4191-b28a-18da84c058dd-c000.snappy.parquet\r\n",
      "-rw-r--r--   2 root supergroup      10149 2022-04-25 01:32 /user/hive/warehouse/covid_por_municipio/part-00154-9f251a84-5d84-4191-b28a-18da84c058dd-c000.snappy.parquet\r\n",
      "-rw-r--r--   2 root supergroup      11067 2022-04-25 01:32 /user/hive/warehouse/covid_por_municipio/part-00155-9f251a84-5d84-4191-b28a-18da84c058dd-c000.snappy.parquet\r\n",
      "-rw-r--r--   2 root supergroup      10319 2022-04-25 01:32 /user/hive/warehouse/covid_por_municipio/part-00156-9f251a84-5d84-4191-b28a-18da84c058dd-c000.snappy.parquet\r\n",
      "-rw-r--r--   2 root supergroup      11144 2022-04-25 01:32 /user/hive/warehouse/covid_por_municipio/part-00157-9f251a84-5d84-4191-b28a-18da84c058dd-c000.snappy.parquet\r\n",
      "-rw-r--r--   2 root supergroup      10435 2022-04-25 01:32 /user/hive/warehouse/covid_por_municipio/part-00158-9f251a84-5d84-4191-b28a-18da84c058dd-c000.snappy.parquet\r\n",
      "-rw-r--r--   2 root supergroup      10773 2022-04-25 01:32 /user/hive/warehouse/covid_por_municipio/part-00159-9f251a84-5d84-4191-b28a-18da84c058dd-c000.snappy.parquet\r\n",
      "-rw-r--r--   2 root supergroup      10362 2022-04-25 01:32 /user/hive/warehouse/covid_por_municipio/part-00160-9f251a84-5d84-4191-b28a-18da84c058dd-c000.snappy.parquet\r\n",
      "-rw-r--r--   2 root supergroup      11082 2022-04-25 01:32 /user/hive/warehouse/covid_por_municipio/part-00161-9f251a84-5d84-4191-b28a-18da84c058dd-c000.snappy.parquet\r\n",
      "-rw-r--r--   2 root supergroup       9724 2022-04-25 01:32 /user/hive/warehouse/covid_por_municipio/part-00162-9f251a84-5d84-4191-b28a-18da84c058dd-c000.snappy.parquet\r\n",
      "-rw-r--r--   2 root supergroup      10503 2022-04-25 01:32 /user/hive/warehouse/covid_por_municipio/part-00163-9f251a84-5d84-4191-b28a-18da84c058dd-c000.snappy.parquet\r\n",
      "-rw-r--r--   2 root supergroup      10293 2022-04-25 01:32 /user/hive/warehouse/covid_por_municipio/part-00164-9f251a84-5d84-4191-b28a-18da84c058dd-c000.snappy.parquet\r\n",
      "-rw-r--r--   2 root supergroup      10734 2022-04-25 01:32 /user/hive/warehouse/covid_por_municipio/part-00165-9f251a84-5d84-4191-b28a-18da84c058dd-c000.snappy.parquet\r\n",
      "-rw-r--r--   2 root supergroup      10594 2022-04-25 01:32 /user/hive/warehouse/covid_por_municipio/part-00166-9f251a84-5d84-4191-b28a-18da84c058dd-c000.snappy.parquet\r\n",
      "-rw-r--r--   2 root supergroup      10018 2022-04-25 01:32 /user/hive/warehouse/covid_por_municipio/part-00167-9f251a84-5d84-4191-b28a-18da84c058dd-c000.snappy.parquet\r\n",
      "-rw-r--r--   2 root supergroup      10217 2022-04-25 01:32 /user/hive/warehouse/covid_por_municipio/part-00168-9f251a84-5d84-4191-b28a-18da84c058dd-c000.snappy.parquet\r\n",
      "-rw-r--r--   2 root supergroup      10962 2022-04-25 01:32 /user/hive/warehouse/covid_por_municipio/part-00169-9f251a84-5d84-4191-b28a-18da84c058dd-c000.snappy.parquet\r\n",
      "-rw-r--r--   2 root supergroup      10670 2022-04-25 01:32 /user/hive/warehouse/covid_por_municipio/part-00170-9f251a84-5d84-4191-b28a-18da84c058dd-c000.snappy.parquet\r\n",
      "-rw-r--r--   2 root supergroup      10386 2022-04-25 01:32 /user/hive/warehouse/covid_por_municipio/part-00171-9f251a84-5d84-4191-b28a-18da84c058dd-c000.snappy.parquet\r\n",
      "-rw-r--r--   2 root supergroup      10146 2022-04-25 01:32 /user/hive/warehouse/covid_por_municipio/part-00172-9f251a84-5d84-4191-b28a-18da84c058dd-c000.snappy.parquet\r\n",
      "-rw-r--r--   2 root supergroup      10653 2022-04-25 01:32 /user/hive/warehouse/covid_por_municipio/part-00173-9f251a84-5d84-4191-b28a-18da84c058dd-c000.snappy.parquet\r\n",
      "-rw-r--r--   2 root supergroup      10649 2022-04-25 01:32 /user/hive/warehouse/covid_por_municipio/part-00174-9f251a84-5d84-4191-b28a-18da84c058dd-c000.snappy.parquet\r\n",
      "-rw-r--r--   2 root supergroup       9734 2022-04-25 01:32 /user/hive/warehouse/covid_por_municipio/part-00175-9f251a84-5d84-4191-b28a-18da84c058dd-c000.snappy.parquet\r\n",
      "-rw-r--r--   2 root supergroup      10598 2022-04-25 01:32 /user/hive/warehouse/covid_por_municipio/part-00176-9f251a84-5d84-4191-b28a-18da84c058dd-c000.snappy.parquet\r\n",
      "-rw-r--r--   2 root supergroup      10472 2022-04-25 01:32 /user/hive/warehouse/covid_por_municipio/part-00177-9f251a84-5d84-4191-b28a-18da84c058dd-c000.snappy.parquet\r\n",
      "-rw-r--r--   2 root supergroup       9966 2022-04-25 01:32 /user/hive/warehouse/covid_por_municipio/part-00178-9f251a84-5d84-4191-b28a-18da84c058dd-c000.snappy.parquet\r\n",
      "-rw-r--r--   2 root supergroup      10709 2022-04-25 01:32 /user/hive/warehouse/covid_por_municipio/part-00179-9f251a84-5d84-4191-b28a-18da84c058dd-c000.snappy.parquet\r\n",
      "-rw-r--r--   2 root supergroup      10525 2022-04-25 01:32 /user/hive/warehouse/covid_por_municipio/part-00180-9f251a84-5d84-4191-b28a-18da84c058dd-c000.snappy.parquet\r\n",
      "-rw-r--r--   2 root supergroup      10970 2022-04-25 01:32 /user/hive/warehouse/covid_por_municipio/part-00181-9f251a84-5d84-4191-b28a-18da84c058dd-c000.snappy.parquet\r\n",
      "-rw-r--r--   2 root supergroup      10268 2022-04-25 01:32 /user/hive/warehouse/covid_por_municipio/part-00182-9f251a84-5d84-4191-b28a-18da84c058dd-c000.snappy.parquet\r\n",
      "-rw-r--r--   2 root supergroup      11014 2022-04-25 01:32 /user/hive/warehouse/covid_por_municipio/part-00183-9f251a84-5d84-4191-b28a-18da84c058dd-c000.snappy.parquet\r\n",
      "-rw-r--r--   2 root supergroup      10626 2022-04-25 01:32 /user/hive/warehouse/covid_por_municipio/part-00184-9f251a84-5d84-4191-b28a-18da84c058dd-c000.snappy.parquet\r\n",
      "-rw-r--r--   2 root supergroup      10146 2022-04-25 01:32 /user/hive/warehouse/covid_por_municipio/part-00185-9f251a84-5d84-4191-b28a-18da84c058dd-c000.snappy.parquet\r\n",
      "-rw-r--r--   2 root supergroup      10352 2022-04-25 01:32 /user/hive/warehouse/covid_por_municipio/part-00186-9f251a84-5d84-4191-b28a-18da84c058dd-c000.snappy.parquet\r\n",
      "-rw-r--r--   2 root supergroup      10817 2022-04-25 01:32 /user/hive/warehouse/covid_por_municipio/part-00187-9f251a84-5d84-4191-b28a-18da84c058dd-c000.snappy.parquet\r\n",
      "-rw-r--r--   2 root supergroup      10483 2022-04-25 01:32 /user/hive/warehouse/covid_por_municipio/part-00188-9f251a84-5d84-4191-b28a-18da84c058dd-c000.snappy.parquet\r\n",
      "-rw-r--r--   2 root supergroup      10426 2022-04-25 01:32 /user/hive/warehouse/covid_por_municipio/part-00189-9f251a84-5d84-4191-b28a-18da84c058dd-c000.snappy.parquet\r\n",
      "-rw-r--r--   2 root supergroup      10713 2022-04-25 01:32 /user/hive/warehouse/covid_por_municipio/part-00190-9f251a84-5d84-4191-b28a-18da84c058dd-c000.snappy.parquet\r\n",
      "-rw-r--r--   2 root supergroup      10385 2022-04-25 01:32 /user/hive/warehouse/covid_por_municipio/part-00191-9f251a84-5d84-4191-b28a-18da84c058dd-c000.snappy.parquet\r\n",
      "-rw-r--r--   2 root supergroup      10398 2022-04-25 01:32 /user/hive/warehouse/covid_por_municipio/part-00192-9f251a84-5d84-4191-b28a-18da84c058dd-c000.snappy.parquet\r\n",
      "-rw-r--r--   2 root supergroup      10464 2022-04-25 01:32 /user/hive/warehouse/covid_por_municipio/part-00193-9f251a84-5d84-4191-b28a-18da84c058dd-c000.snappy.parquet\r\n",
      "-rw-r--r--   2 root supergroup      10520 2022-04-25 01:32 /user/hive/warehouse/covid_por_municipio/part-00194-9f251a84-5d84-4191-b28a-18da84c058dd-c000.snappy.parquet\r\n",
      "-rw-r--r--   2 root supergroup      10066 2022-04-25 01:32 /user/hive/warehouse/covid_por_municipio/part-00195-9f251a84-5d84-4191-b28a-18da84c058dd-c000.snappy.parquet\r\n",
      "-rw-r--r--   2 root supergroup      11112 2022-04-25 01:32 /user/hive/warehouse/covid_por_municipio/part-00196-9f251a84-5d84-4191-b28a-18da84c058dd-c000.snappy.parquet\r\n",
      "-rw-r--r--   2 root supergroup      11122 2022-04-25 01:32 /user/hive/warehouse/covid_por_municipio/part-00197-9f251a84-5d84-4191-b28a-18da84c058dd-c000.snappy.parquet\r\n",
      "-rw-r--r--   2 root supergroup      10020 2022-04-25 01:32 /user/hive/warehouse/covid_por_municipio/part-00198-9f251a84-5d84-4191-b28a-18da84c058dd-c000.snappy.parquet\r\n",
      "-rw-r--r--   2 root supergroup      11020 2022-04-25 01:32 /user/hive/warehouse/covid_por_municipio/part-00199-9f251a84-5d84-4191-b28a-18da84c058dd-c000.snappy.parquet\r\n"
     ]
    }
   ],
   "source": [
    "!hdfs dfs -ls /user/hive/warehouse/covid_por_municipio"
   ]
  },
  {
   "cell_type": "code",
   "execution_count": 114,
   "metadata": {},
   "outputs": [],
   "source": [
    "covid_uf.write.parquet(\"/user/alex/proj/uf/\")"
   ]
  },
  {
   "cell_type": "code",
   "execution_count": 87,
   "metadata": {},
   "outputs": [],
   "source": [
    "covid_br.write.csv(\"/user/alex/proj/br/\")"
   ]
  },
  {
   "cell_type": "code",
   "execution_count": 88,
   "metadata": {
    "collapsed": true
   },
   "outputs": [
    {
     "name": "stdout",
     "output_type": "stream",
     "text": [
      "-rw-r--r--   2 root supergroup          0 2022-04-27 23:25 /user/alex/proj/br/_SUCCESS\r\n",
      "-rw-r--r--   2 root supergroup         18 2022-04-27 23:25 /user/alex/proj/br/part-00000-4153b9c5-b55a-49f0-91ee-c80cd3b216e4-c000.csv\r\n",
      "-rw-r--r--   2 root supergroup         25 2022-04-27 23:25 /user/alex/proj/br/part-00001-4153b9c5-b55a-49f0-91ee-c80cd3b216e4-c000.csv\r\n",
      "-rw-r--r--   2 root supergroup         49 2022-04-27 23:25 /user/alex/proj/br/part-00002-4153b9c5-b55a-49f0-91ee-c80cd3b216e4-c000.csv\r\n",
      "-rw-r--r--   2 root supergroup         50 2022-04-27 23:25 /user/alex/proj/br/part-00003-4153b9c5-b55a-49f0-91ee-c80cd3b216e4-c000.csv\r\n",
      "-rw-r--r--   2 root supergroup         51 2022-04-27 23:25 /user/alex/proj/br/part-00004-4153b9c5-b55a-49f0-91ee-c80cd3b216e4-c000.csv\r\n",
      "-rw-r--r--   2 root supergroup         51 2022-04-27 23:25 /user/alex/proj/br/part-00005-4153b9c5-b55a-49f0-91ee-c80cd3b216e4-c000.csv\r\n",
      "-rw-r--r--   2 root supergroup         51 2022-04-27 23:25 /user/alex/proj/br/part-00006-4153b9c5-b55a-49f0-91ee-c80cd3b216e4-c000.csv\r\n",
      "-rw-r--r--   2 root supergroup         51 2022-04-27 23:25 /user/alex/proj/br/part-00007-4153b9c5-b55a-49f0-91ee-c80cd3b216e4-c000.csv\r\n",
      "-rw-r--r--   2 root supergroup         49 2022-04-27 23:25 /user/alex/proj/br/part-00008-4153b9c5-b55a-49f0-91ee-c80cd3b216e4-c000.csv\r\n",
      "-rw-r--r--   2 root supergroup         51 2022-04-27 23:25 /user/alex/proj/br/part-00009-4153b9c5-b55a-49f0-91ee-c80cd3b216e4-c000.csv\r\n",
      "-rw-r--r--   2 root supergroup         52 2022-04-27 23:25 /user/alex/proj/br/part-00010-4153b9c5-b55a-49f0-91ee-c80cd3b216e4-c000.csv\r\n",
      "-rw-r--r--   2 root supergroup         52 2022-04-27 23:25 /user/alex/proj/br/part-00011-4153b9c5-b55a-49f0-91ee-c80cd3b216e4-c000.csv\r\n",
      "-rw-r--r--   2 root supergroup         51 2022-04-27 23:25 /user/alex/proj/br/part-00012-4153b9c5-b55a-49f0-91ee-c80cd3b216e4-c000.csv\r\n",
      "-rw-r--r--   2 root supergroup         50 2022-04-27 23:25 /user/alex/proj/br/part-00013-4153b9c5-b55a-49f0-91ee-c80cd3b216e4-c000.csv\r\n",
      "-rw-r--r--   2 root supergroup         51 2022-04-27 23:25 /user/alex/proj/br/part-00014-4153b9c5-b55a-49f0-91ee-c80cd3b216e4-c000.csv\r\n",
      "-rw-r--r--   2 root supergroup         51 2022-04-27 23:25 /user/alex/proj/br/part-00015-4153b9c5-b55a-49f0-91ee-c80cd3b216e4-c000.csv\r\n",
      "-rw-r--r--   2 root supergroup         51 2022-04-27 23:25 /user/alex/proj/br/part-00016-4153b9c5-b55a-49f0-91ee-c80cd3b216e4-c000.csv\r\n",
      "-rw-r--r--   2 root supergroup         51 2022-04-27 23:25 /user/alex/proj/br/part-00017-4153b9c5-b55a-49f0-91ee-c80cd3b216e4-c000.csv\r\n",
      "-rw-r--r--   2 root supergroup         49 2022-04-27 23:25 /user/alex/proj/br/part-00018-4153b9c5-b55a-49f0-91ee-c80cd3b216e4-c000.csv\r\n"
     ]
    }
   ],
   "source": [
    "!hdfs dfs -ls -R /user/alex/proj/br/"
   ]
  },
  {
   "cell_type": "code",
   "execution_count": 89,
   "metadata": {},
   "outputs": [
    {
     "name": "stdout",
     "output_type": "stream",
     "text": [
      "2021,6,6034761,165825,210147125,0.7890900244293135\r\n"
     ]
    }
   ],
   "source": [
    "!hdfs dfs -cat /user/alex/proj/br/part-00017-4153b9c5-b55a-49f0-91ee-c80cd3b216e4-c000.csv |head -n 10"
   ]
  },
  {
   "cell_type": "code",
   "execution_count": 90,
   "metadata": {},
   "outputs": [],
   "source": [
    "schema_agg = StructType()\\\n",
    "    .add(\"ano\", IntegerType())\\\n",
    "    .add(\"mes\", IntegerType())\\\n",
    "    .add(\"Casos_mes\", IntegerType())\\\n",
    "    .add(\"Obitos_mes\", IntegerType())\\\n",
    "    .add(\"Pop\", IntegerType())\\\n",
    "    .add(\"Obitos_por_mil_habitantes\", FloatType())"
   ]
  },
  {
   "cell_type": "code",
   "execution_count": 94,
   "metadata": {},
   "outputs": [],
   "source": [
    "covid_stream = spark.readStream.csv(\"/user/alex/proj/br/\", schema=schema_agg)"
   ]
  },
  {
   "cell_type": "code",
   "execution_count": 95,
   "metadata": {},
   "outputs": [
    {
     "name": "stdout",
     "output_type": "stream",
     "text": [
      "root\n",
      " |-- ano: integer (nullable = true)\n",
      " |-- mes: integer (nullable = true)\n",
      " |-- Casos_mes: integer (nullable = true)\n",
      " |-- Obitos_mes: integer (nullable = true)\n",
      " |-- Pop: integer (nullable = true)\n",
      " |-- Obitos_por_mil_habitantes: float (nullable = true)\n",
      "\n"
     ]
    }
   ],
   "source": [
    "covid_stream.printSchema()"
   ]
  },
  {
   "cell_type": "code",
   "execution_count": 96,
   "metadata": {},
   "outputs": [],
   "source": [
    "topic_covid_br = covid_stream.writeStream\\\n",
    "    .format(\"kafka\")\\\n",
    "    .option(\"kafka.bootstrap.servers\", \"kafka:9092\")\\\n",
    "    .option(\"topic\", \"topic-covid-br\")\\\n",
    "    .option(\"checkpointLocation\", \"/user/alex/proj/checkpoint\")\\\n",
    "    .start()"
   ]
  },
  {
   "cell_type": "code",
   "execution_count": null,
   "metadata": {},
   "outputs": [],
   "source": []
  }
 ],
 "metadata": {
  "kernelspec": {
   "display_name": "PySpark",
   "language": "python",
   "name": "pyspark"
  },
  "language_info": {
   "codemirror_mode": {
    "name": "ipython",
    "version": 3
   },
   "file_extension": ".py",
   "mimetype": "text/x-python",
   "name": "python",
   "nbconvert_exporter": "python",
   "pygments_lexer": "ipython3",
   "version": "3.6.10"
  }
 },
 "nbformat": 4,
 "nbformat_minor": 2
}
